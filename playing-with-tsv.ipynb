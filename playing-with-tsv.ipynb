{
 "cells": [
  {
   "cell_type": "code",
   "execution_count": 1,
   "metadata": {},
   "outputs": [
    {
     "data": {
      "text/plain": [
       "'/Users/siavosh/Documents/GitHub/pydata-book'"
      ]
     },
     "execution_count": 1,
     "metadata": {},
     "output_type": "execute_result"
    }
   ],
   "source": [
    "pwd\n"
   ]
  },
  {
   "cell_type": "code",
   "execution_count": 2,
   "metadata": {},
   "outputs": [
    {
     "name": "stdout",
     "output_type": "stream",
     "text": [
      "COPYING           ch03.ipynb        ch08.ipynb        ch13.ipynb\n",
      "README.md         ch04.ipynb        ch09.ipynb        \u001b[34mdatasets\u001b[m\u001b[m/\n",
      "appa.ipynb        ch05.ipynb        ch10.ipynb        \u001b[34mexamples\u001b[m\u001b[m/\n",
      "appb.ipynb        ch06.ipynb        ch11.ipynb        requirements.txt\n",
      "ch02.ipynb        ch07.ipynb        ch12.ipynb\n"
     ]
    }
   ],
   "source": [
    "ls\n"
   ]
  },
  {
   "cell_type": "code",
   "execution_count": 1,
   "metadata": {},
   "outputs": [],
   "source": [
    "import pandas as pd\n",
    "tsv_file='test.tsv'\n",
    "csv_table=pd.read_table(tsv_file,sep='\\t')\n",
    "csv_table.to_csv('new_name.csv',index=False)"
   ]
  },
  {
   "cell_type": "code",
   "execution_count": 13,
   "metadata": {},
   "outputs": [
    {
     "data": {
      "text/html": [
       "<div>\n",
       "<style scoped>\n",
       "    .dataframe tbody tr th:only-of-type {\n",
       "        vertical-align: middle;\n",
       "    }\n",
       "\n",
       "    .dataframe tbody tr th {\n",
       "        vertical-align: top;\n",
       "    }\n",
       "\n",
       "    .dataframe thead th {\n",
       "        text-align: right;\n",
       "    }\n",
       "</style>\n",
       "<table border=\"1\" class=\"dataframe\">\n",
       "  <thead>\n",
       "    <tr style=\"text-align: right;\">\n",
       "      <th></th>\n",
       "      <th>102.3s</th>\n",
       "      <th>1758</th>\n",
       "      <th>Epoch 1/100</th>\n",
       "    </tr>\n",
       "  </thead>\n",
       "  <tbody>\n",
       "    <tr>\n",
       "      <th>0</th>\n",
       "      <td>220.1s</td>\n",
       "      <td>1759</td>\n",
       "      <td>79/79 - 94s - loss: 1.4034 - accuracy: 0.5243 ...</td>\n",
       "    </tr>\n",
       "    <tr>\n",
       "      <th>2</th>\n",
       "      <td>308.5s</td>\n",
       "      <td>1761</td>\n",
       "      <td>79/79 - 86s - loss: 1.0043 - accuracy: 0.6716 ...</td>\n",
       "    </tr>\n",
       "    <tr>\n",
       "      <th>4</th>\n",
       "      <td>397.3s</td>\n",
       "      <td>1763</td>\n",
       "      <td>79/79 - 86s - loss: 0.8671 - accuracy: 0.7260 ...</td>\n",
       "    </tr>\n",
       "    <tr>\n",
       "      <th>6</th>\n",
       "      <td>485.2s</td>\n",
       "      <td>1765</td>\n",
       "      <td>79/79 - 85s - loss: 0.7915 - accuracy: 0.7493 ...</td>\n",
       "    </tr>\n",
       "    <tr>\n",
       "      <th>8</th>\n",
       "      <td>573.3s</td>\n",
       "      <td>1767</td>\n",
       "      <td>79/79 - 86s - loss: 0.7309 - accuracy: 0.7683 ...</td>\n",
       "    </tr>\n",
       "    <tr>\n",
       "      <th>10</th>\n",
       "      <td>662.2s</td>\n",
       "      <td>1769</td>\n",
       "      <td>79/79 - 86s - loss: 0.6796 - accuracy: 0.7836 ...</td>\n",
       "    </tr>\n",
       "    <tr>\n",
       "      <th>12</th>\n",
       "      <td>750.8s</td>\n",
       "      <td>1771</td>\n",
       "      <td>79/79 - 86s - loss: 0.6511 - accuracy: 0.7922 ...</td>\n",
       "    </tr>\n",
       "    <tr>\n",
       "      <th>14</th>\n",
       "      <td>838.5s</td>\n",
       "      <td>1773</td>\n",
       "      <td>79/79 - 85s - loss: 0.6251 - accuracy: 0.8001 ...</td>\n",
       "    </tr>\n",
       "    <tr>\n",
       "      <th>16</th>\n",
       "      <td>927.0s</td>\n",
       "      <td>1775</td>\n",
       "      <td>79/79 - 86s - loss: 0.6005 - accuracy: 0.8077 ...</td>\n",
       "    </tr>\n",
       "    <tr>\n",
       "      <th>18</th>\n",
       "      <td>1014.1s</td>\n",
       "      <td>1777</td>\n",
       "      <td>79/79 - 85s - loss: 0.5749 - accuracy: 0.8188 ...</td>\n",
       "    </tr>\n",
       "    <tr>\n",
       "      <th>20</th>\n",
       "      <td>1101.2s</td>\n",
       "      <td>1779</td>\n",
       "      <td>79/79 - 85s - loss: 0.5540 - accuracy: 0.8212 ...</td>\n",
       "    </tr>\n",
       "    <tr>\n",
       "      <th>22</th>\n",
       "      <td>1188.9s</td>\n",
       "      <td>1781</td>\n",
       "      <td>79/79 - 85s - loss: 0.5298 - accuracy: 0.8353 ...</td>\n",
       "    </tr>\n",
       "    <tr>\n",
       "      <th>24</th>\n",
       "      <td>1277.8s</td>\n",
       "      <td>1783</td>\n",
       "      <td>79/79 - 87s - loss: 0.5290 - accuracy: 0.8383 ...</td>\n",
       "    </tr>\n",
       "    <tr>\n",
       "      <th>26</th>\n",
       "      <td>1365.0s</td>\n",
       "      <td>1785</td>\n",
       "      <td>79/79 - 85s - loss: 0.5254 - accuracy: 0.8448 ...</td>\n",
       "    </tr>\n",
       "    <tr>\n",
       "      <th>28</th>\n",
       "      <td>1453.5s</td>\n",
       "      <td>1787</td>\n",
       "      <td>79/79 - 86s - loss: 0.5206 - accuracy: 0.8397 ...</td>\n",
       "    </tr>\n",
       "    <tr>\n",
       "      <th>30</th>\n",
       "      <td>1541.2s</td>\n",
       "      <td>1789</td>\n",
       "      <td>79/79 - 85s - loss: 0.5200 - accuracy: 0.8416 ...</td>\n",
       "    </tr>\n",
       "    <tr>\n",
       "      <th>32</th>\n",
       "      <td>1629.0s</td>\n",
       "      <td>1791</td>\n",
       "      <td>79/79 - 85s - loss: 0.5183 - accuracy: 0.8458 ...</td>\n",
       "    </tr>\n",
       "    <tr>\n",
       "      <th>34</th>\n",
       "      <td>1716.8s</td>\n",
       "      <td>1793</td>\n",
       "      <td>79/79 - 85s - loss: 0.5193 - accuracy: 0.8464 ...</td>\n",
       "    </tr>\n",
       "    <tr>\n",
       "      <th>36</th>\n",
       "      <td>1803.7s</td>\n",
       "      <td>1795</td>\n",
       "      <td>79/79 - 84s - loss: 0.5202 - accuracy: 0.8420 ...</td>\n",
       "    </tr>\n",
       "    <tr>\n",
       "      <th>38</th>\n",
       "      <td>1890.3s</td>\n",
       "      <td>1797</td>\n",
       "      <td>79/79 - 84s - loss: 0.5148 - accuracy: 0.8426 ...</td>\n",
       "    </tr>\n",
       "    <tr>\n",
       "      <th>40</th>\n",
       "      <td>1976.8s</td>\n",
       "      <td>1799</td>\n",
       "      <td>79/79 - 84s - loss: 0.5161 - accuracy: 0.8420 ...</td>\n",
       "    </tr>\n",
       "    <tr>\n",
       "      <th>42</th>\n",
       "      <td>2063.8s</td>\n",
       "      <td>1801</td>\n",
       "      <td>79/79 - 85s - loss: 0.5187 - accuracy: 0.8468 ...</td>\n",
       "    </tr>\n",
       "    <tr>\n",
       "      <th>44</th>\n",
       "      <td>2150.8s</td>\n",
       "      <td>1803</td>\n",
       "      <td>79/79 - 85s - loss: 0.5177 - accuracy: 0.8442 ...</td>\n",
       "    </tr>\n",
       "  </tbody>\n",
       "</table>\n",
       "</div>"
      ],
      "text/plain": [
       "     102.3s  1758                                        Epoch 1/100\n",
       "0    220.1s  1759  79/79 - 94s - loss: 1.4034 - accuracy: 0.5243 ...\n",
       "2    308.5s  1761  79/79 - 86s - loss: 1.0043 - accuracy: 0.6716 ...\n",
       "4    397.3s  1763  79/79 - 86s - loss: 0.8671 - accuracy: 0.7260 ...\n",
       "6    485.2s  1765  79/79 - 85s - loss: 0.7915 - accuracy: 0.7493 ...\n",
       "8    573.3s  1767  79/79 - 86s - loss: 0.7309 - accuracy: 0.7683 ...\n",
       "10   662.2s  1769  79/79 - 86s - loss: 0.6796 - accuracy: 0.7836 ...\n",
       "12   750.8s  1771  79/79 - 86s - loss: 0.6511 - accuracy: 0.7922 ...\n",
       "14   838.5s  1773  79/79 - 85s - loss: 0.6251 - accuracy: 0.8001 ...\n",
       "16   927.0s  1775  79/79 - 86s - loss: 0.6005 - accuracy: 0.8077 ...\n",
       "18  1014.1s  1777  79/79 - 85s - loss: 0.5749 - accuracy: 0.8188 ...\n",
       "20  1101.2s  1779  79/79 - 85s - loss: 0.5540 - accuracy: 0.8212 ...\n",
       "22  1188.9s  1781  79/79 - 85s - loss: 0.5298 - accuracy: 0.8353 ...\n",
       "24  1277.8s  1783  79/79 - 87s - loss: 0.5290 - accuracy: 0.8383 ...\n",
       "26  1365.0s  1785  79/79 - 85s - loss: 0.5254 - accuracy: 0.8448 ...\n",
       "28  1453.5s  1787  79/79 - 86s - loss: 0.5206 - accuracy: 0.8397 ...\n",
       "30  1541.2s  1789  79/79 - 85s - loss: 0.5200 - accuracy: 0.8416 ...\n",
       "32  1629.0s  1791  79/79 - 85s - loss: 0.5183 - accuracy: 0.8458 ...\n",
       "34  1716.8s  1793  79/79 - 85s - loss: 0.5193 - accuracy: 0.8464 ...\n",
       "36  1803.7s  1795  79/79 - 84s - loss: 0.5202 - accuracy: 0.8420 ...\n",
       "38  1890.3s  1797  79/79 - 84s - loss: 0.5148 - accuracy: 0.8426 ...\n",
       "40  1976.8s  1799  79/79 - 84s - loss: 0.5161 - accuracy: 0.8420 ...\n",
       "42  2063.8s  1801  79/79 - 85s - loss: 0.5187 - accuracy: 0.8468 ...\n",
       "44  2150.8s  1803  79/79 - 85s - loss: 0.5177 - accuracy: 0.8442 ..."
      ]
     },
     "execution_count": 13,
     "metadata": {},
     "output_type": "execute_result"
    }
   ],
   "source": [
    "csv_table.iloc[::2, :]"
   ]
  },
  {
   "cell_type": "code",
   "execution_count": 15,
   "metadata": {},
   "outputs": [],
   "source": [
    "csv_table=csv_table.iloc[::2, :]\n",
    "\n",
    "csv_table.to_csv('test2.csv', index=False)\n"
   ]
  },
  {
   "cell_type": "code",
   "execution_count": 7,
   "metadata": {},
   "outputs": [
    {
     "data": {
      "text/plain": [
       "RangeIndex(start=0, stop=46, step=1)"
      ]
     },
     "execution_count": 7,
     "metadata": {},
     "output_type": "execute_result"
    }
   ],
   "source": []
  },
  {
   "cell_type": "code",
   "execution_count": 25,
   "metadata": {},
   "outputs": [],
   "source": [
    "csv_table=csv_table.pop"
   ]
  },
  {
   "cell_type": "code",
   "execution_count": 28,
   "metadata": {},
   "outputs": [
    {
     "data": {
      "text/plain": [
       "<bound method DataFrame.pop of      102.3s  1758                                        Epoch 1/100\n",
       "0    220.1s  1759  79/79 - 94s - loss: 1.4034 - accuracy: 0.5243 ...\n",
       "2    308.5s  1761  79/79 - 86s - loss: 1.0043 - accuracy: 0.6716 ...\n",
       "4    397.3s  1763  79/79 - 86s - loss: 0.8671 - accuracy: 0.7260 ...\n",
       "6    485.2s  1765  79/79 - 85s - loss: 0.7915 - accuracy: 0.7493 ...\n",
       "8    573.3s  1767  79/79 - 86s - loss: 0.7309 - accuracy: 0.7683 ...\n",
       "10   662.2s  1769  79/79 - 86s - loss: 0.6796 - accuracy: 0.7836 ...\n",
       "12   750.8s  1771  79/79 - 86s - loss: 0.6511 - accuracy: 0.7922 ...\n",
       "14   838.5s  1773  79/79 - 85s - loss: 0.6251 - accuracy: 0.8001 ...\n",
       "16   927.0s  1775  79/79 - 86s - loss: 0.6005 - accuracy: 0.8077 ...\n",
       "18  1014.1s  1777  79/79 - 85s - loss: 0.5749 - accuracy: 0.8188 ...\n",
       "20  1101.2s  1779  79/79 - 85s - loss: 0.5540 - accuracy: 0.8212 ...\n",
       "22  1188.9s  1781  79/79 - 85s - loss: 0.5298 - accuracy: 0.8353 ...\n",
       "24  1277.8s  1783  79/79 - 87s - loss: 0.5290 - accuracy: 0.8383 ...\n",
       "26  1365.0s  1785  79/79 - 85s - loss: 0.5254 - accuracy: 0.8448 ...\n",
       "28  1453.5s  1787  79/79 - 86s - loss: 0.5206 - accuracy: 0.8397 ...\n",
       "30  1541.2s  1789  79/79 - 85s - loss: 0.5200 - accuracy: 0.8416 ...\n",
       "32  1629.0s  1791  79/79 - 85s - loss: 0.5183 - accuracy: 0.8458 ...\n",
       "34  1716.8s  1793  79/79 - 85s - loss: 0.5193 - accuracy: 0.8464 ...\n",
       "36  1803.7s  1795  79/79 - 84s - loss: 0.5202 - accuracy: 0.8420 ...\n",
       "38  1890.3s  1797  79/79 - 84s - loss: 0.5148 - accuracy: 0.8426 ...\n",
       "40  1976.8s  1799  79/79 - 84s - loss: 0.5161 - accuracy: 0.8420 ...\n",
       "42  2063.8s  1801  79/79 - 85s - loss: 0.5187 - accuracy: 0.8468 ...\n",
       "44  2150.8s  1803  79/79 - 85s - loss: 0.5177 - accuracy: 0.8442 ...>"
      ]
     },
     "execution_count": 28,
     "metadata": {},
     "output_type": "execute_result"
    }
   ],
   "source": [
    "csv_table"
   ]
  },
  {
   "cell_type": "code",
   "execution_count": null,
   "metadata": {},
   "outputs": [],
   "source": []
  }
 ],
 "metadata": {
  "kernelspec": {
   "display_name": "ml_env",
   "language": "python",
   "name": "python3"
  },
  "language_info": {
   "codemirror_mode": {
    "name": "ipython",
    "version": 3
   },
   "file_extension": ".py",
   "mimetype": "text/x-python",
   "name": "python",
   "nbconvert_exporter": "python",
   "pygments_lexer": "ipython3",
   "version": "3.11.7"
  }
 },
 "nbformat": 4,
 "nbformat_minor": 2
}
